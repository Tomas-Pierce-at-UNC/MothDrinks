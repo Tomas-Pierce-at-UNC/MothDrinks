{
 "cells": [
  {
   "cell_type": "code",
   "execution_count": 1,
   "id": "436eb308",
   "metadata": {},
   "outputs": [],
   "source": [
    "import pathlib\n",
    "\n",
    "import meniscus_rate2\n",
    "from loess import loess_1d\n",
    "import real_unit_convert as ruc\n",
    "import numpy as np\n",
    "import pandas\n",
    "from matplotlib import pyplot\n",
    "import statistics"
   ]
  },
  {
   "cell_type": "code",
   "execution_count": 2,
   "id": "09313b2a",
   "metadata": {},
   "outputs": [],
   "source": [
    "from examine_relationship import list_filenames"
   ]
  },
  {
   "cell_type": "code",
   "execution_count": 3,
   "id": "dac4b9b8",
   "metadata": {},
   "outputs": [],
   "source": [
    "m_names, p_names = list_filenames()"
   ]
  },
  {
   "cell_type": "code",
   "execution_count": 8,
   "id": "d1c05e53",
   "metadata": {},
   "outputs": [],
   "source": [
    "uc = ruc.UnitConversion()"
   ]
  },
  {
   "cell_type": "code",
   "execution_count": 19,
   "id": "d9218a85",
   "metadata": {},
   "outputs": [],
   "source": [
    "m_tables = []\n",
    "p_tables = []"
   ]
  },
  {
   "cell_type": "code",
   "execution_count": 20,
   "id": "352d2964",
   "metadata": {},
   "outputs": [],
   "source": [
    "for i in range(len(m_names)):\n",
    "    m_table = np.loadtxt(m_names[i], delimiter=' ')\n",
    "    p_table = np.loadtxt(p_names[i], delimiter='\\t')\n",
    "    m_tables.append(mtable)\n",
    "    p_tables.append(ptable)"
   ]
  },
  {
   "cell_type": "code",
   "execution_count": 28,
   "id": "77ebeb64",
   "metadata": {},
   "outputs": [],
   "source": [
    "np.loadtxt?"
   ]
  },
  {
   "cell_type": "code",
   "execution_count": null,
   "id": "d59b5cf7",
   "metadata": {},
   "outputs": [],
   "source": []
  }
 ],
 "metadata": {
  "kernelspec": {
   "display_name": "Python 3 (ipykernel)",
   "language": "python",
   "name": "python3"
  },
  "language_info": {
   "codemirror_mode": {
    "name": "ipython",
    "version": 3
   },
   "file_extension": ".py",
   "mimetype": "text/x-python",
   "name": "python",
   "nbconvert_exporter": "python",
   "pygments_lexer": "ipython3",
   "version": "3.10.6"
  }
 },
 "nbformat": 4,
 "nbformat_minor": 5
}
