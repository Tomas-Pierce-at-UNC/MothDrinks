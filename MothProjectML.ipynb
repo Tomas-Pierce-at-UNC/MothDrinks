{
 "cells": [
  {
   "cell_type": "code",
   "execution_count": 21,
   "id": "124a706e",
   "metadata": {},
   "outputs": [],
   "source": [
    "from tensorflow.keras.applications import resnet50\n",
    "from tensorflow.keras.preprocessing import image\n",
    "from tensorflow.keras.models import Model\n",
    "from tensorflow.keras.layers import Dense, GlobalAveragePooling2D\n",
    "import tensorflow as tf\n",
    "import numpy as np\n",
    "from matplotlib import pyplot\n",
    "from tensorflow import keras\n",
    "# import torch\n",
    "# import keras_cv\n",
    "import skimage.io as skio\n",
    "import glob\n",
    "from skimage import transform\n",
    "from xml.etree import ElementTree\n",
    "from os import path\n",
    "import re\n",
    "import json\n",
    "from tensorflow.keras import utils\n",
    "from collections import OrderedDict\n",
    "import tensorflow as tf\n",
    "from tensorflow.data import Dataset\n",
    "import glob\n",
    "from skimage import io as skio\n",
    "import numpy as np\n",
    "from keras.layers import Resizing, Dense, Conv2D, Input, Flatten, Rescaling, MaxPooling2D, Conv2DTranspose\n",
    "from keras.layers import UpSampling2D, GlobalAveragePooling2D, Conv1D, Reshape, MaxPooling1D, GlobalAveragePooling1D\n",
    "from keras.layers import LocallyConnected2D\n",
    "from skimage import filters\n",
    "from skimage import transform\n",
    "from keras.optimizers import Adam, RMSprop, SGD\n",
    "from keras.losses import MeanSquaredError, MeanAbsoluteError, MeanSquaredLogarithmicError\n",
    "import typing\n",
    "import random\n",
    "from keras.models import Sequential\n",
    "keras.backend.set_image_data_format(\"channels_last\")"
   ]
  },
  {
   "cell_type": "code",
   "execution_count": 4,
   "id": "800196a1",
   "metadata": {},
   "outputs": [],
   "source": [
    "ANNOTE_TRAIN = \"trainingdata1/annotations.xml\"\n",
    "IMAGES_TRAIN = \"trainingdata1/images/training/\"\n",
    "ANNOTE_TEST = \"TestData/annotations.xml\"\n",
    "IMAGES_TEST = \"TestData/images/test/\"\n",
    "ANNOTE_MORE = \"additionalTrainingLarger/annotations.xml\"\n",
    "IMAGES_MORE = \"additionalTrainingLarger/images/frameset/\""
   ]
  },
  {
   "cell_type": "code",
   "execution_count": 5,
   "id": "58e55c27",
   "metadata": {},
   "outputs": [],
   "source": [
    "def load_imageset(folder: str, newsize=(600,50)) -> np.ndarray | list:\n",
    "    pngs = \"*.png\"\n",
    "    tifs = \"*.tif\"\n",
    "    if folder.endswith(\"/\"):\n",
    "        names1 = glob.glob(folder + pngs)\n",
    "        names2 = glob.glob(folder + tifs)\n",
    "    else:\n",
    "        names1 = glob.glob(folder + \"/\" + pngs)\n",
    "        names2 = glob.glob(folder + \"/\" + tifs)\n",
    "    names = names1\n",
    "    names.extend(names2)\n",
    "    names.sort()\n",
    "    raw_imgs = [skio.imread(name) for name in names]\n",
    "    if newsize is not None:\n",
    "        images = [transform.resize(image / 255.0, newsize)[...,np.newaxis] for image in raw_imgs]\n",
    "    else:\n",
    "        images = [(image / 255.0)[...,np.newaxis] for image in raw_imgs]\n",
    "        return images\n",
    "    return np.array(images)"
   ]
  },
  {
   "cell_type": "code",
   "execution_count": 6,
   "id": "82374761",
   "metadata": {},
   "outputs": [],
   "source": [
    "def get_image_geometries(foldername: str):\n",
    "    images = load_imageset(foldername, None)\n",
    "    shapes = [image.shape for image in images]\n",
    "    return shapes\n",
    "\n",
    "def load_annotations(filename: str) -> ElementTree:\n",
    "    with open(filename) as handle:\n",
    "        text = handle.read()\n",
    "    return ElementTree.fromstring(text)\n",
    "\n",
    "def get_meniscus_centers(annotations: ElementTree) -> np.ndarray:\n",
    "    images = annotations.findall(\"image\")\n",
    "    images.sort(key=lambda img : img.attrib['name'])\n",
    "    points = [image.findall(\"points\") for image in images]\n",
    "    p = []\n",
    "    for point_list in points:\n",
    "        p.extend(point_list)\n",
    "    centers = [point for point in p if point.attrib['label'] == 'MeniscusCenter']\n",
    "    c_strs = [point.attrib['points'] for point in centers]\n",
    "    cs_pairs = [s.split(',') for s in c_strs]\n",
    "    center_coords = [(float(pair[0]), float(pair[1])) for pair in cs_pairs]\n",
    "    return np.array(center_coords)\n",
    "\n",
    "def structure_meniscuscenter_data(imagedata: np.ndarray, meniscus_centers: np.ndarray) -> Dataset:\n",
    "    return Dataset.from_tensor_slices((imagedata, meniscus_centers))"
   ]
  },
  {
   "cell_type": "code",
   "execution_count": 7,
   "id": "57f0b201",
   "metadata": {},
   "outputs": [
    {
     "name": "stderr",
     "output_type": "stream",
     "text": [
      "2023-02-11 15:58:38.421149: W tensorflow/compiler/xla/stream_executor/platform/default/dso_loader.cc:64] Could not load dynamic library 'libcuda.so.1'; dlerror: libcuda.so.1: cannot open shared object file: No such file or directory\n",
      "2023-02-11 15:58:38.421167: W tensorflow/compiler/xla/stream_executor/cuda/cuda_driver.cc:265] failed call to cuInit: UNKNOWN ERROR (303)\n",
      "2023-02-11 15:58:38.421184: I tensorflow/compiler/xla/stream_executor/cuda/cuda_diagnostics.cc:156] kernel driver does not appear to be running on this host (Silicon-Eye): /proc/driver/nvidia/version does not exist\n",
      "2023-02-11 15:58:38.421428: I tensorflow/core/platform/cpu_feature_guard.cc:193] This TensorFlow binary is optimized with oneAPI Deep Neural Network Library (oneDNN) to use the following CPU instructions in performance-critical operations:  AVX2 AVX512F AVX512_VNNI FMA\n",
      "To enable them in other operations, rebuild TensorFlow with the appropriate compiler flags.\n"
     ]
    }
   ],
   "source": [
    "train_img = load_imageset(IMAGES_TRAIN)\n",
    "train_annote = load_annotations(ANNOTE_TRAIN)\n",
    "train_geoms = get_image_geometries(IMAGES_TRAIN)\n",
    "train_centers = get_meniscus_centers(train_annote)\n",
    "train_mendata = structure_meniscuscenter_data(train_img, train_centers)\n",
    "test_geoms = get_image_geometries(IMAGES_TEST)\n",
    "test_img = load_imageset(IMAGES_TEST)\n",
    "test_annote = load_annotations(ANNOTE_TEST)\n",
    "test_centers = get_meniscus_centers(test_annote)\n",
    "test_mendata = structure_meniscuscenter_data(test_img,test_centers)\n",
    "add_img = load_imageset(IMAGES_MORE)\n",
    "add_annote = load_annotations(ANNOTE_MORE)\n",
    "add_centers = get_meniscus_centers(add_annote)\n",
    "add_mendata = structure_meniscuscenter_data(add_img, add_centers)\n",
    "mydata = train_mendata.concatenate(test_mendata).concatenate(add_mendata)"
   ]
  },
  {
   "cell_type": "code",
   "execution_count": 8,
   "id": "6be8e12d",
   "metadata": {},
   "outputs": [
    {
     "name": "stdout",
     "output_type": "stream",
     "text": [
      "(91, 600, 50, 1)\n",
      "(134, 600, 50, 1)\n"
     ]
    }
   ],
   "source": [
    "print(train_img.shape)\n",
    "print(add_img.shape)"
   ]
  },
  {
   "cell_type": "code",
   "execution_count": 9,
   "id": "668224d1",
   "metadata": {},
   "outputs": [],
   "source": [
    "mytrainin = np.concatenate((train_img, add_img), axis=0)\n",
    "mytrainout = np.concatenate((train_centers, add_centers), axis=0)"
   ]
  },
  {
   "cell_type": "code",
   "execution_count": 30,
   "id": "0b9dd33d",
   "metadata": {},
   "outputs": [
    {
     "name": "stdout",
     "output_type": "stream",
     "text": [
      "Model: \"model_9\"\n",
      "_________________________________________________________________\n",
      " Layer (type)                Output Shape              Param #   \n",
      "=================================================================\n",
      " input_15 (InputLayer)       [(None, 600, 50, 1)]      0         \n",
      "                                                                 \n",
      " resizing_11 (Resizing)      (None, 600, 100, 1)       0         \n",
      "                                                                 \n",
      " conv2d_109 (Conv2D)         (None, 598, 98, 64)       640       \n",
      "                                                                 \n",
      " conv2d_110 (Conv2D)         (None, 596, 96, 64)       36928     \n",
      "                                                                 \n",
      " max_pooling2d_25 (MaxPoolin  (None, 298, 48, 64)      0         \n",
      " g2D)                                                            \n",
      "                                                                 \n",
      " conv2d_111 (Conv2D)         (None, 296, 46, 128)      73856     \n",
      "                                                                 \n",
      " conv2d_112 (Conv2D)         (None, 294, 44, 128)      147584    \n",
      "                                                                 \n",
      " max_pooling2d_26 (MaxPoolin  (None, 147, 22, 128)     0         \n",
      " g2D)                                                            \n",
      "                                                                 \n",
      " conv2d_113 (Conv2D)         (None, 145, 20, 256)      295168    \n",
      "                                                                 \n",
      " conv2d_114 (Conv2D)         (None, 143, 18, 256)      590080    \n",
      "                                                                 \n",
      " up_sampling2d_22 (UpSamplin  (None, 286, 36, 256)     0         \n",
      " g2D)                                                            \n",
      "                                                                 \n",
      " conv2d_115 (Conv2D)         (None, 284, 34, 128)      295040    \n",
      "                                                                 \n",
      " conv2d_116 (Conv2D)         (None, 282, 32, 128)      147584    \n",
      "                                                                 \n",
      " up_sampling2d_23 (UpSamplin  (None, 564, 64, 128)     0         \n",
      " g2D)                                                            \n",
      "                                                                 \n",
      " conv2d_117 (Conv2D)         (None, 564, 64, 2)        258       \n",
      "                                                                 \n",
      " dense_9 (Dense)             (None, 564, 64, 2)        6         \n",
      "                                                                 \n",
      " global_average_pooling2d_1   (None, 2)                0         \n",
      " (GlobalAveragePooling2D)                                        \n",
      "                                                                 \n",
      "=================================================================\n",
      "Total params: 1,587,144\n",
      "Trainable params: 1,587,144\n",
      "Non-trainable params: 0\n",
      "_________________________________________________________________\n"
     ]
    }
   ],
   "source": [
    "inputs = Input([600,50,1])\n",
    "HEIGHT = 2\n",
    "channels = 64\n",
    "x = Resizing(600, 100)(inputs)\n",
    "#x = Conv2D(filters=1, kernel_size=(1,1))(inputs)\n",
    "for i in range(HEIGHT):\n",
    "    x = Conv2D(filters=channels, kernel_size=(3,3))(x)\n",
    "    x = Conv2D(filters=channels, kernel_size=(3,3))(x)\n",
    "    x = MaxPooling2D()(x)\n",
    "    channels *= 2\n",
    "for i in range(HEIGHT):\n",
    "    x = Conv2D(filters=channels, kernel_size=(3,3))(x)\n",
    "    x = Conv2D(filters=channels, kernel_size=(3,3))(x)\n",
    "    x = UpSampling2D()(x)\n",
    "    channels //= 2\n",
    "\n",
    "collapse = Conv2D(filters=2, kernel_size=(1,1))(x)\n",
    "#flat = Flatten()(collapse)\n",
    "\n",
    "out1 = Dense(2, activation=\"relu\")(collapse)\n",
    "out2 = GlobalAveragePooling2D()(out1)\n",
    "\n",
    "model = keras.Model(inputs=inputs, outputs=out2)\n",
    "model.compile(optimizer=Adam(), loss=MeanSquaredError())\n",
    "model.summary()"
   ]
  },
  {
   "cell_type": "code",
   "execution_count": 29,
   "id": "5c32b95c",
   "metadata": {},
   "outputs": [
    {
     "ename": "ValueError",
     "evalue": "Creating variables on a non-first call to a function decorated with tf.function.",
     "output_type": "error",
     "traceback": [
      "\u001b[0;31m---------------------------------------------------------------------------\u001b[0m",
      "\u001b[0;31mValueError\u001b[0m                                Traceback (most recent call last)",
      "\u001b[0;32m/tmp/ipykernel_5218/3907721749.py\u001b[0m in \u001b[0;36m<cell line: 1>\u001b[0;34m()\u001b[0m\n\u001b[0;32m----> 1\u001b[0;31m \u001b[0mmodel\u001b[0m\u001b[0;34m.\u001b[0m\u001b[0mfit\u001b[0m\u001b[0;34m(\u001b[0m\u001b[0mmydata\u001b[0m\u001b[0;34m.\u001b[0m\u001b[0mbatch\u001b[0m\u001b[0;34m(\u001b[0m\u001b[0;36m50\u001b[0m\u001b[0;34m)\u001b[0m\u001b[0;34m)\u001b[0m\u001b[0;34m\u001b[0m\u001b[0;34m\u001b[0m\u001b[0m\n\u001b[0m",
      "\u001b[0;32m~/.local/lib/python3.10/site-packages/keras/utils/traceback_utils.py\u001b[0m in \u001b[0;36merror_handler\u001b[0;34m(*args, **kwargs)\u001b[0m\n\u001b[1;32m     68\u001b[0m             \u001b[0;31m# To get the full stack trace, call:\u001b[0m\u001b[0;34m\u001b[0m\u001b[0;34m\u001b[0m\u001b[0m\n\u001b[1;32m     69\u001b[0m             \u001b[0;31m# `tf.debugging.disable_traceback_filtering()`\u001b[0m\u001b[0;34m\u001b[0m\u001b[0;34m\u001b[0m\u001b[0m\n\u001b[0;32m---> 70\u001b[0;31m             \u001b[0;32mraise\u001b[0m \u001b[0me\u001b[0m\u001b[0;34m.\u001b[0m\u001b[0mwith_traceback\u001b[0m\u001b[0;34m(\u001b[0m\u001b[0mfiltered_tb\u001b[0m\u001b[0;34m)\u001b[0m \u001b[0;32mfrom\u001b[0m \u001b[0;32mNone\u001b[0m\u001b[0;34m\u001b[0m\u001b[0;34m\u001b[0m\u001b[0m\n\u001b[0m\u001b[1;32m     71\u001b[0m         \u001b[0;32mfinally\u001b[0m\u001b[0;34m:\u001b[0m\u001b[0;34m\u001b[0m\u001b[0;34m\u001b[0m\u001b[0m\n\u001b[1;32m     72\u001b[0m             \u001b[0;32mdel\u001b[0m \u001b[0mfiltered_tb\u001b[0m\u001b[0;34m\u001b[0m\u001b[0;34m\u001b[0m\u001b[0m\n",
      "\u001b[0;32m~/.local/lib/python3.10/site-packages/tensorflow/python/eager/polymorphic_function/polymorphic_function.py\u001b[0m in \u001b[0;36m_call\u001b[0;34m(self, *args, **kwds)\u001b[0m\n\u001b[1;32m    919\u001b[0m       \u001b[0mresults\u001b[0m \u001b[0;34m=\u001b[0m \u001b[0mself\u001b[0m\u001b[0;34m.\u001b[0m\u001b[0m_variable_creation_fn\u001b[0m\u001b[0;34m(\u001b[0m\u001b[0;34m*\u001b[0m\u001b[0margs\u001b[0m\u001b[0;34m,\u001b[0m \u001b[0;34m**\u001b[0m\u001b[0mkwds\u001b[0m\u001b[0;34m)\u001b[0m\u001b[0;34m\u001b[0m\u001b[0;34m\u001b[0m\u001b[0m\n\u001b[1;32m    920\u001b[0m       \u001b[0;32mif\u001b[0m \u001b[0mself\u001b[0m\u001b[0;34m.\u001b[0m\u001b[0m_created_variables\u001b[0m \u001b[0;32mand\u001b[0m \u001b[0;32mnot\u001b[0m \u001b[0mALLOW_DYNAMIC_VARIABLE_CREATION\u001b[0m\u001b[0;34m:\u001b[0m\u001b[0;34m\u001b[0m\u001b[0;34m\u001b[0m\u001b[0m\n\u001b[0;32m--> 921\u001b[0;31m         raise ValueError(\"Creating variables on a non-first call to a function\"\n\u001b[0m\u001b[1;32m    922\u001b[0m                          \" decorated with tf.function.\")\n\u001b[1;32m    923\u001b[0m       \u001b[0;32mreturn\u001b[0m \u001b[0mresults\u001b[0m\u001b[0;34m\u001b[0m\u001b[0;34m\u001b[0m\u001b[0m\n",
      "\u001b[0;31mValueError\u001b[0m: Creating variables on a non-first call to a function decorated with tf.function."
     ]
    }
   ],
   "source": [
    "model.fit(mydata.batch(50))"
   ]
  },
  {
   "cell_type": "code",
   "execution_count": 55,
   "id": "7b9862f2",
   "metadata": {},
   "outputs": [
    {
     "name": "stdout",
     "output_type": "stream",
     "text": [
      "268.56\n",
      "[ 31.675207 276.14087 ]\n"
     ]
    },
    {
     "data": {
      "text/plain": [
       "<matplotlib.collections.LineCollection at 0x7f4898508be0>"
      ]
     },
     "execution_count": 55,
     "metadata": {},
     "output_type": "execute_result"
    },
    {
     "data": {
      "image/png": "[encoded data removed]",
      "text/plain": [
       "<Figure size 640x480 with 1 Axes>"
      ]
     },
     "metadata": {},
     "output_type": "display_data"
    }
   ],
   "source": [
    "x,y = outputs.numpy()\n",
    "print(y)\n",
    "\n",
    "print(pair)\n",
    "outs = m.numpy()\n",
    "pyplot.imshow(inputs)\n",
    "pyplot.hlines(y, 0, 50, color=\"red\")\n",
    "pyplot.hlines(pair[1], 0, 50, color=\"blue\")"
   ]
  },
  {
   "cell_type": "code",
   "execution_count": 54,
   "id": "cb8221e5",
   "metadata": {},
   "outputs": [
    {
     "data": {
      "text/plain": [
       "array([ 31.675207, 276.14087 ], dtype=float32)"
      ]
     },
     "execution_count": 54,
     "metadata": {},
     "output_type": "execute_result"
    }
   ],
   "source": []
  },
  {
   "cell_type": "code",
   "execution_count": 79,
   "id": "9f1f7297",
   "metadata": {},
   "outputs": [],
   "source": [
    "r = outs.reshape((600*144*6,2))"
   ]
  },
  {
   "cell_type": "code",
   "execution_count": 80,
   "id": "2f017fb2",
   "metadata": {},
   "outputs": [
    {
     "data": {
      "text/plain": [
       "(array([   468.,   2984.,  30552.,  14352.,  19264.,  26364.,  22136.,\n",
       "         30412., 251172., 120696.]),\n",
       " array([177.50824, 191.60754, 205.70683, 219.80614, 233.90543, 248.00473,\n",
       "        262.10403, 276.20334, 290.3026 , 304.40192, 318.50122],\n",
       "       dtype=float32),\n",
       " <BarContainer object of 10 artists>)"
      ]
     },
     "execution_count": 80,
     "metadata": {},
     "output_type": "execute_result"
    },
    {
     "data": {
      "image/png": "[encoded data removed]",
      "text/plain": [
       "<Figure size 640x480 with 1 Axes>"
      ]
     },
     "metadata": {},
     "output_type": "display_data"
    }
   ],
   "source": [
    "pyplot.hist(r[:,1])"
   ]
  },
  {
   "cell_type": "code",
   "execution_count": 72,
   "id": "5421821a",
   "metadata": {},
   "outputs": [
    {
     "data": {
      "text/plain": [
       "TensorShape([600, 144, 6, 2])"
      ]
     },
     "execution_count": 72,
     "metadata": {},
     "output_type": "execute_result"
    }
   ],
   "source": [
    "m.shape"
   ]
  },
  {
   "cell_type": "code",
   "execution_count": 73,
   "id": "713b3b3c",
   "metadata": {},
   "outputs": [
    {
     "data": {
      "text/plain": [
       "<tf.Tensor: shape=(600, 50, 1), dtype=float64, numpy=\n",
       "array([[[0.81509804],\n",
       "        [0.80568627],\n",
       "        [0.81568627],\n",
       "        ...,\n",
       "        [0.81176471],\n",
       "        [0.81294118],\n",
       "        [0.81921569]],\n",
       "\n",
       "       [[0.81882353],\n",
       "        [0.80627451],\n",
       "        [0.80980392],\n",
       "        ...,\n",
       "        [0.82254902],\n",
       "        [0.82078431],\n",
       "        [0.82705882]],\n",
       "\n",
       "       [[0.80843137],\n",
       "        [0.81784314],\n",
       "        [0.81666667],\n",
       "        ...,\n",
       "        [0.82156863],\n",
       "        [0.81745098],\n",
       "        [0.82686275]],\n",
       "\n",
       "       ...,\n",
       "\n",
       "       [[1.        ],\n",
       "        [1.        ],\n",
       "        [1.        ],\n",
       "        ...,\n",
       "        [0.24607843],\n",
       "        [0.16901961],\n",
       "        [0.15019608]],\n",
       "\n",
       "       [[1.        ],\n",
       "        [1.        ],\n",
       "        [1.        ],\n",
       "        ...,\n",
       "        [0.25098039],\n",
       "        [0.17627451],\n",
       "        [0.15431373]],\n",
       "\n",
       "       [[1.        ],\n",
       "        [1.        ],\n",
       "        [1.        ],\n",
       "        ...,\n",
       "        [0.24705882],\n",
       "        [0.17352941],\n",
       "        [0.15784314]]])>"
      ]
     },
     "execution_count": 73,
     "metadata": {},
     "output_type": "execute_result"
    }
   ],
   "source": [
    "inputs"
   ]
  },
  {
   "cell_type": "code",
   "execution_count": null,
   "id": "d83e29e8",
   "metadata": {},
   "outputs": [],
   "source": []
  }
 ],
 "metadata": {
  "kernelspec": {
   "display_name": "Python 3 (ipykernel)",
   "language": "python",
   "name": "python3"
  },
  "language_info": {
   "codemirror_mode": {
    "name": "ipython",
    "version": 3
   },
   "file_extension": ".py",
   "mimetype": "text/x-python",
   "name": "python",
   "nbconvert_exporter": "python",
   "pygments_lexer": "ipython3",
   "version": "3.10.6"
  }
 },
 "nbformat": 4,
 "nbformat_minor": 5
}
